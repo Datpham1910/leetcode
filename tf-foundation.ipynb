{
 "cells": [
  {
   "cell_type": "code",
   "execution_count": 1,
   "metadata": {},
   "outputs": [],
   "source": [
    "import tensorflow as tf\r\n",
    "import mitdeeplearning as mdl\r\n"
   ]
  },
  {
   "cell_type": "code",
   "execution_count": 9,
   "metadata": {},
   "outputs": [
    {
     "name": "stdout",
     "output_type": "stream",
     "text": [
      "True\n",
      "True\n",
      "tf.Tensor(76, shape=(), dtype=int32) tf.Tensor(60, shape=(), dtype=int32) tf.Tensor(4560, shape=(), dtype=int32)\n"
     ]
    }
   ],
   "source": [
    "matrix = tf.constant([[1, 2],[3,4],[5,6]])\r\n",
    "print(tf.rank(matrix).numpy() == 2)\r\n",
    "\r\n",
    "\r\n",
    "images = tf.zeros([10 ,256 ,256,3])\r\n",
    "print(tf.rank(images).numpy() == 4)\r\n",
    "\r\n",
    "a = tf.constant(15)\r\n",
    "b = tf.constant(61)\r\n",
    "\r\n",
    "c = tf.add(a, b)\r\n",
    "d = tf.subtract(b, tf.constant(1))\r\n",
    "e = tf.multiply(c, d)\r\n",
    "print(c, d, e, end='\\n')"
   ]
  },
  {
   "cell_type": "code",
   "execution_count": 10,
   "metadata": {},
   "outputs": [
    {
     "name": "stdout",
     "output_type": "stream",
     "text": [
      "tf.Tensor(6.0, shape=(), dtype=float32)\n"
     ]
    }
   ],
   "source": [
    "def func(a,b):\r\n",
    "  '''TODO: Define the operation for c, d, e (use tf.add, tf.subtract, tf.multiply).'''\r\n",
    "  a = tf.constant(a, dtype=tf.float32)\r\n",
    "  b = tf.constant(b, dtype=tf.float32)\r\n",
    "  c = tf.add(a, b)\r\n",
    "  d = tf.subtract(b, tf.constant(1, dtype=tf.float32))\r\n",
    "  e = tf.multiply(c, d)\r\n",
    "  \r\n",
    "  return e\r\n",
    "\r\n",
    "a, b = 1.5, 2.5\r\n",
    "# Execute the computation\r\n",
    "e_out = func(a,b)\r\n",
    "print(e_out)"
   ]
  },
  {
   "cell_type": "code",
   "execution_count": 11,
   "metadata": {},
   "outputs": [
    {
     "name": "stdout",
     "output_type": "stream",
     "text": [
      "[[0.26978594 0.45750415 0.66536945]]\n"
     ]
    },
    {
     "ename": "AttributeError",
     "evalue": "module 'mitdeeplearning' has no attribute 'lab1'",
     "output_type": "error",
     "traceback": [
      "\u001b[1;31m---------------------------------------------------------------------------\u001b[0m",
      "\u001b[1;31mAttributeError\u001b[0m                            Traceback (most recent call last)",
      "\u001b[1;32m<ipython-input-11-ca13b6598342>\u001b[0m in \u001b[0;36m<module>\u001b[1;34m\u001b[0m\n\u001b[0;32m     34\u001b[0m \u001b[1;31m# test the output!\u001b[0m\u001b[1;33m\u001b[0m\u001b[1;33m\u001b[0m\u001b[1;33m\u001b[0m\u001b[0m\n\u001b[0;32m     35\u001b[0m \u001b[0mprint\u001b[0m\u001b[1;33m(\u001b[0m\u001b[0my\u001b[0m\u001b[1;33m.\u001b[0m\u001b[0mnumpy\u001b[0m\u001b[1;33m(\u001b[0m\u001b[1;33m)\u001b[0m\u001b[1;33m)\u001b[0m\u001b[1;33m\u001b[0m\u001b[1;33m\u001b[0m\u001b[0m\n\u001b[1;32m---> 36\u001b[1;33m \u001b[0mmdl\u001b[0m\u001b[1;33m.\u001b[0m\u001b[0mlab1\u001b[0m\u001b[1;33m.\u001b[0m\u001b[0mtest_custom_dense_layer_output\u001b[0m\u001b[1;33m(\u001b[0m\u001b[0my\u001b[0m\u001b[1;33m)\u001b[0m\u001b[1;33m\u001b[0m\u001b[1;33m\u001b[0m\u001b[0m\n\u001b[0m",
      "\u001b[1;31mAttributeError\u001b[0m: module 'mitdeeplearning' has no attribute 'lab1'"
     ]
    }
   ],
   "source": [
    "### Defining a network Layer ###\r\n",
    "\r\n",
    "# n_output_nodes: number of output nodes\r\n",
    "# input_shape: shape of the input\r\n",
    "# x: input to the layer\r\n",
    "\r\n",
    "class OurDenseLayer(tf.keras.layers.Layer):\r\n",
    "  def __init__(self, n_output_nodes):\r\n",
    "    super(OurDenseLayer, self).__init__()\r\n",
    "    self.n_output_nodes = n_output_nodes\r\n",
    "\r\n",
    "  def build(self, input_shape):\r\n",
    "    d = int(input_shape[-1])\r\n",
    "    # Define and initialize parameters: a weight matrix W and bias b\r\n",
    "    # Note that parameter initialization is random!\r\n",
    "    self.W = self.add_weight(\"weight\", shape=[d, self.n_output_nodes]) # note the dimensionality\r\n",
    "    self.b = self.add_weight(\"bias\", shape=[1, self.n_output_nodes]) # note the dimensionality\r\n",
    "\r\n",
    "  def call(self, x):\r\n",
    "    '''TODO: define the operation for z (hint: use tf.matmul)'''\r\n",
    "    z = tf.matmul(x, self.W) + self.b\r\n",
    "\r\n",
    "    '''TODO: define the operation for out (hint: use tf.sigmoid)'''\r\n",
    "    y = tf.sigmoid(z)\r\n",
    "    return y\r\n",
    "\r\n",
    "# Since layer parameters are initialized randomly, we will set a random seed for reproducibility\r\n",
    "tf.random.set_seed(1)\r\n",
    "layer = OurDenseLayer(3)\r\n",
    "layer.build((1,2))\r\n",
    "x_input = tf.constant([[1,2.]], shape=(1,2))\r\n",
    "y = layer.call(x_input)\r\n",
    "\r\n",
    "# test the output!\r\n",
    "print(y.numpy())\r\n",
    "mdl.lab1.test_custom_dense_layer_output(y)"
   ]
  }
 ],
 "metadata": {
  "kernelspec": {
   "display_name": "Python 3",
   "language": "python",
   "name": "python3"
  },
  "language_info": {
   "codemirror_mode": {
    "name": "ipython",
    "version": 3
   },
   "file_extension": ".py",
   "mimetype": "text/x-python",
   "name": "python",
   "nbconvert_exporter": "python",
   "pygments_lexer": "ipython3",
   "version": "3.8.2"
  },
  "orig_nbformat": 2
 },
 "nbformat": 4,
 "nbformat_minor": 2
}